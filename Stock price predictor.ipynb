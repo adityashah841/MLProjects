{
 "cells": [
  {
   "cell_type": "code",
   "execution_count": 33,
   "id": "0636b931",
   "metadata": {},
   "outputs": [],
   "source": [
    "import pandas_datareader as pdr"
   ]
  },
  {
   "cell_type": "code",
   "execution_count": 34,
   "id": "8b911c3c",
   "metadata": {},
   "outputs": [],
   "source": [
    "key='30aba41d9971d2f6366a8ba1f5ad4ea5fc71674e'"
   ]
  },
  {
   "cell_type": "code",
   "execution_count": 35,
   "id": "583c1357",
   "metadata": {},
   "outputs": [
    {
     "name": "stderr",
     "output_type": "stream",
     "text": [
      "C:\\Users\\Aditya\\AppData\\Local\\Programs\\Python\\Python310\\lib\\site-packages\\pandas_datareader\\tiingo.py:234: FutureWarning: In a future version of pandas all arguments of concat except for the argument 'objs' will be keyword-only.\n",
      "  return pd.concat(dfs, self._concat_axis)\n"
     ]
    }
   ],
   "source": [
    "df=pdr.get_data_tiingo('AAPL', api_key=key)"
   ]
  },
  {
   "cell_type": "code",
   "execution_count": 36,
   "id": "f5236e4d",
   "metadata": {},
   "outputs": [],
   "source": [
    "df.to_csv('AAPL.csv')"
   ]
  },
  {
   "cell_type": "code",
   "execution_count": 37,
   "id": "12fb6489",
   "metadata": {},
   "outputs": [],
   "source": [
    "import pandas as pd"
   ]
  },
  {
   "cell_type": "code",
   "execution_count": 38,
   "id": "f36dca07",
   "metadata": {},
   "outputs": [],
   "source": [
    "df=pd.read_csv('AAPL.csv')"
   ]
  },
  {
   "cell_type": "code",
   "execution_count": 39,
   "id": "0550940f",
   "metadata": {},
   "outputs": [],
   "source": [
    "df1=df.reset_index()['close']"
   ]
  },
  {
   "cell_type": "code",
   "execution_count": 40,
   "id": "6805e441",
   "metadata": {},
   "outputs": [
    {
     "data": {
      "text/plain": [
       "[<matplotlib.lines.Line2D at 0x248ee462d40>]"
      ]
     },
     "execution_count": 40,
     "metadata": {},
     "output_type": "execute_result"
    },
    {
     "data": {
      "image/png": "[encoded data removed]",
      "text/plain": [
       "<Figure size 432x288 with 1 Axes>"
      ]
     },
     "metadata": {
      "needs_background": "light"
     },
     "output_type": "display_data"
    }
   ],
   "source": [
    "import matplotlib.pyplot as plt\n",
    "plt.plot(df1)"
   ]
  },
  {
   "cell_type": "code",
   "execution_count": 41,
   "id": "3e6aa6cd",
   "metadata": {},
   "outputs": [],
   "source": [
    "import numpy as np"
   ]
  },
  {
   "cell_type": "code",
   "execution_count": 42,
   "id": "a8a44be8",
   "metadata": {},
   "outputs": [],
   "source": [
    "from sklearn.preprocessing import MinMaxScaler\n",
    "scaler=MinMaxScaler(feature_range=(0,1))\n",
    "df1=scaler.fit_transform(np.array(df1).reshape(-1,1))"
   ]
  },
  {
   "cell_type": "code",
   "execution_count": 43,
   "id": "760598a3",
   "metadata": {},
   "outputs": [
    {
     "data": {
      "text/plain": [
       "array([[0.0969067 ],\n",
       "       [0.09743269],\n",
       "       [0.10251722],\n",
       "       ...,\n",
       "       [0.09036944],\n",
       "       [0.09896055],\n",
       "       [0.10068879]])"
      ]
     },
     "execution_count": 43,
     "metadata": {},
     "output_type": "execute_result"
    }
   ],
   "source": [
    "df1"
   ]
  },
  {
   "cell_type": "code",
   "execution_count": 44,
   "id": "b5dfa135",
   "metadata": {},
   "outputs": [],
   "source": [
    "training_size=int(len(df1)*0.65)\n",
    "test_size=len(df1)-training_size\n",
    "train_data, test_data = df1[0:training_size,:],df1[training_size:len(df1),:1]"
   ]
  },
  {
   "cell_type": "code",
   "execution_count": 45,
   "id": "ff05814d",
   "metadata": {},
   "outputs": [],
   "source": [
    "def create_dataset(dataset, time_step=1):\n",
    "    dataX, dataY = [], []\n",
    "    for i in range(len(dataset)-time_step-1):\n",
    "        a=dataset[i:(i+time_step),0]\n",
    "        dataX.append(a)\n",
    "        dataY.append(dataset[i+time_step,0])\n",
    "    return np.array(dataX), np.array(dataY)"
   ]
  },
  {
   "cell_type": "code",
   "execution_count": 46,
   "id": "fdf6c26c",
   "metadata": {},
   "outputs": [],
   "source": [
    "time_step=100\n",
    "X_train, Y_train=create_dataset(train_data, time_step)\n",
    "X_test, Y_test=create_dataset(test_data, time_step)"
   ]
  },
  {
   "cell_type": "code",
   "execution_count": 47,
   "id": "bc79992c",
   "metadata": {},
   "outputs": [],
   "source": [
    "X_train=X_train.reshape(X_train.shape[0],X_train.shape[1],1)\n",
    "X_test=X_test.reshape(X_test.shape[0],X_test.shape[1],1)"
   ]
  },
  {
   "cell_type": "code",
   "execution_count": 48,
   "id": "72d39c29",
   "metadata": {},
   "outputs": [],
   "source": [
    "from tensorflow.keras.models import Sequential\n",
    "from tensorflow.keras.layers import Dense\n",
    "from tensorflow.keras.layers import LSTM"
   ]
  },
  {
   "cell_type": "code",
   "execution_count": 49,
   "id": "53bd78ba",
   "metadata": {},
   "outputs": [],
   "source": [
    "model = Sequential()\n",
    "model.add(LSTM(50,return_sequences=True,input_shape=(100,1)))\n",
    "model.add(LSTM(50,return_sequences=True))\n",
    "model.add(LSTM(50))\n",
    "model.add(Dense(1))\n",
    "model.compile(loss='mean_squared_error', optimizer='adam')"
   ]
  },
  {
   "cell_type": "code",
   "execution_count": 50,
   "id": "cfdf6c6c",
   "metadata": {},
   "outputs": [
    {
     "name": "stdout",
     "output_type": "stream",
     "text": [
      "Model: \"sequential_1\"\n",
      "_________________________________________________________________\n",
      " Layer (type)                Output Shape              Param #   \n",
      "=================================================================\n",
      " lstm_3 (LSTM)               (None, 100, 50)           10400     \n",
      "                                                                 \n",
      " lstm_4 (LSTM)               (None, 100, 50)           20200     \n",
      "                                                                 \n",
      " lstm_5 (LSTM)               (None, 50)                20200     \n",
      "                                                                 \n",
      " dense_1 (Dense)             (None, 1)                 51        \n",
      "                                                                 \n",
      "=================================================================\n",
      "Total params: 50,851\n",
      "Trainable params: 50,851\n",
      "Non-trainable params: 0\n",
      "_________________________________________________________________\n"
     ]
    }
   ],
   "source": [
    "model.summary()"
   ]
  },
  {
   "cell_type": "code",
   "execution_count": 52,
   "id": "508caee4",
   "metadata": {},
   "outputs": [
    {
     "name": "stdout",
     "output_type": "stream",
     "text": [
      "Epoch 1/100\n",
      "12/12 [==============================] - 21s 635ms/step - loss: 0.0391 - val_loss: 0.0027\n",
      "Epoch 2/100\n",
      "12/12 [==============================] - 4s 368ms/step - loss: 0.0143 - val_loss: 0.0083\n",
      "Epoch 3/100\n",
      "12/12 [==============================] - 3s 279ms/step - loss: 0.0115 - val_loss: 7.1953e-04\n",
      "Epoch 4/100\n",
      "12/12 [==============================] - 4s 320ms/step - loss: 0.0094 - val_loss: 6.3968e-04\n",
      "Epoch 5/100\n",
      "12/12 [==============================] - 4s 345ms/step - loss: 0.0086 - val_loss: 3.1497e-04\n",
      "Epoch 6/100\n",
      "12/12 [==============================] - 3s 281ms/step - loss: 0.0088 - val_loss: 0.0037\n",
      "Epoch 7/100\n",
      "12/12 [==============================] - 4s 350ms/step - loss: 0.0069 - val_loss: 9.2294e-04\n",
      "Epoch 8/100\n",
      "12/12 [==============================] - 3s 279ms/step - loss: 0.0063 - val_loss: 3.9601e-04\n",
      "Epoch 9/100\n",
      "12/12 [==============================] - 4s 351ms/step - loss: 0.0060 - val_loss: 9.1959e-04\n",
      "Epoch 10/100\n",
      "12/12 [==============================] - 3s 263ms/step - loss: 0.0068 - val_loss: 2.5073e-04\n",
      "Epoch 11/100\n",
      "12/12 [==============================] - 4s 344ms/step - loss: 0.0053 - val_loss: 5.4751e-04\n",
      "Epoch 12/100\n",
      "12/12 [==============================] - 3s 286ms/step - loss: 0.0044 - val_loss: 7.3930e-04\n",
      "Epoch 13/100\n",
      "12/12 [==============================] - 4s 329ms/step - loss: 0.0041 - val_loss: 7.6127e-04\n",
      "Epoch 14/100\n",
      "12/12 [==============================] - 4s 321ms/step - loss: 0.0037 - val_loss: 4.6870e-04\n",
      "Epoch 15/100\n",
      "12/12 [==============================] - 4s 291ms/step - loss: 0.0038 - val_loss: 8.6209e-04\n",
      "Epoch 16/100\n",
      "12/12 [==============================] - 4s 335ms/step - loss: 0.0030 - val_loss: 3.0328e-04\n",
      "Epoch 17/100\n",
      "12/12 [==============================] - 3s 282ms/step - loss: 0.0030 - val_loss: 4.0473e-04\n",
      "Epoch 18/100\n",
      "12/12 [==============================] - 4s 382ms/step - loss: 0.0024 - val_loss: 4.6208e-04\n",
      "Epoch 19/100\n",
      "12/12 [==============================] - 3s 292ms/step - loss: 0.0025 - val_loss: 3.1283e-04\n",
      "Epoch 20/100\n",
      "12/12 [==============================] - 4s 330ms/step - loss: 0.0052 - val_loss: 0.0012\n",
      "Epoch 21/100\n",
      "12/12 [==============================] - 4s 309ms/step - loss: 0.0044 - val_loss: 6.4610e-04\n",
      "Epoch 22/100\n",
      "12/12 [==============================] - 4s 305ms/step - loss: 0.0037 - val_loss: 1.9820e-04\n",
      "Epoch 23/100\n",
      "12/12 [==============================] - 4s 361ms/step - loss: 0.0025 - val_loss: 7.3634e-04\n",
      "Epoch 24/100\n",
      "12/12 [==============================] - 3s 268ms/step - loss: 0.0023 - val_loss: 5.0840e-04\n",
      "Epoch 25/100\n",
      "12/12 [==============================] - 4s 359ms/step - loss: 0.0026 - val_loss: 3.0048e-04\n",
      "Epoch 26/100\n",
      "12/12 [==============================] - 3s 286ms/step - loss: 0.0034 - val_loss: 2.0068e-04\n",
      "Epoch 27/100\n",
      "12/12 [==============================] - 4s 359ms/step - loss: 0.0031 - val_loss: 3.9382e-04\n",
      "Epoch 28/100\n",
      "12/12 [==============================] - 3s 269ms/step - loss: 0.0026 - val_loss: 2.8745e-04\n",
      "Epoch 29/100\n",
      "12/12 [==============================] - 4s 335ms/step - loss: 0.0024 - val_loss: 2.4141e-04\n",
      "Epoch 30/100\n",
      "12/12 [==============================] - 3s 282ms/step - loss: 0.0023 - val_loss: 2.0242e-04\n",
      "Epoch 31/100\n",
      "12/12 [==============================] - 4s 352ms/step - loss: 0.0033 - val_loss: 2.6601e-04\n",
      "Epoch 32/100\n",
      "12/12 [==============================] - 3s 291ms/step - loss: 0.0027 - val_loss: 2.1245e-04\n",
      "Epoch 33/100\n",
      "12/12 [==============================] - 4s 341ms/step - loss: 0.0022 - val_loss: 2.7647e-04\n",
      "Epoch 34/100\n",
      "12/12 [==============================] - 4s 314ms/step - loss: 0.0024 - val_loss: 3.0877e-04\n",
      "Epoch 35/100\n",
      "12/12 [==============================] - 4s 287ms/step - loss: 0.0028 - val_loss: 1.9732e-04\n",
      "Epoch 36/100\n",
      "12/12 [==============================] - 4s 338ms/step - loss: 0.0024 - val_loss: 2.3320e-04\n",
      "Epoch 37/100\n",
      "12/12 [==============================] - 3s 289ms/step - loss: 0.0019 - val_loss: 2.2352e-04\n",
      "Epoch 38/100\n",
      "12/12 [==============================] - 4s 336ms/step - loss: 0.0083 - val_loss: 2.8803e-04\n",
      "Epoch 39/100\n",
      "12/12 [==============================] - 3s 264ms/step - loss: 0.0084 - val_loss: 2.3519e-04\n",
      "Epoch 40/100\n",
      "12/12 [==============================] - 4s 314ms/step - loss: 0.0052 - val_loss: 0.0010\n",
      "Epoch 41/100\n",
      "12/12 [==============================] - 4s 339ms/step - loss: 0.0039 - val_loss: 2.8907e-04\n",
      "Epoch 42/100\n",
      "12/12 [==============================] - 4s 305ms/step - loss: 0.0033 - val_loss: 1.9968e-04\n",
      "Epoch 43/100\n",
      "12/12 [==============================] - 4s 329ms/step - loss: 0.0029 - val_loss: 2.4445e-04\n",
      "Epoch 44/100\n",
      "12/12 [==============================] - 4s 302ms/step - loss: 0.0026 - val_loss: 1.9652e-04\n",
      "Epoch 45/100\n",
      "12/12 [==============================] - 4s 328ms/step - loss: 0.0024 - val_loss: 1.9714e-04\n",
      "Epoch 46/100\n",
      "12/12 [==============================] - 4s 322ms/step - loss: 0.0023 - val_loss: 1.9792e-04\n",
      "Epoch 47/100\n",
      "12/12 [==============================] - 4s 307ms/step - loss: 0.0020 - val_loss: 1.8740e-04\n",
      "Epoch 48/100\n",
      "12/12 [==============================] - 4s 339ms/step - loss: 0.0018 - val_loss: 1.8943e-04\n",
      "Epoch 49/100\n",
      "12/12 [==============================] - 3s 295ms/step - loss: 0.0019 - val_loss: 2.5110e-04\n",
      "Epoch 50/100\n",
      "12/12 [==============================] - 4s 321ms/step - loss: 0.0019 - val_loss: 1.9030e-04\n",
      "Epoch 51/100\n",
      "12/12 [==============================] - 4s 324ms/step - loss: 0.0017 - val_loss: 2.4049e-04\n",
      "Epoch 52/100\n",
      "12/12 [==============================] - 4s 300ms/step - loss: 0.0017 - val_loss: 2.3999e-04\n",
      "Epoch 53/100\n",
      "12/12 [==============================] - 4s 328ms/step - loss: 0.0021 - val_loss: 2.2425e-04\n",
      "Epoch 54/100\n",
      "12/12 [==============================] - 4s 303ms/step - loss: 0.0016 - val_loss: 1.9052e-04\n",
      "Epoch 55/100\n",
      "12/12 [==============================] - 4s 315ms/step - loss: 0.0018 - val_loss: 2.5999e-04\n",
      "Epoch 56/100\n",
      "12/12 [==============================] - 3s 295ms/step - loss: 0.0017 - val_loss: 3.2509e-04\n",
      "Epoch 57/100\n",
      "12/12 [==============================] - 3s 234ms/step - loss: 0.0017 - val_loss: 2.4680e-04\n",
      "Epoch 58/100\n",
      "12/12 [==============================] - 3s 280ms/step - loss: 0.0017 - val_loss: 2.5381e-04\n",
      "Epoch 59/100\n",
      "12/12 [==============================] - 3s 280ms/step - loss: 0.0016 - val_loss: 2.7612e-04\n",
      "Epoch 60/100\n",
      "12/12 [==============================] - 4s 331ms/step - loss: 0.0020 - val_loss: 3.0655e-04\n",
      "Epoch 61/100\n",
      "12/12 [==============================] - 3s 294ms/step - loss: 0.0021 - val_loss: 1.9607e-04\n",
      "Epoch 62/100\n",
      "12/12 [==============================] - 4s 320ms/step - loss: 0.0018 - val_loss: 1.9578e-04\n",
      "Epoch 63/100\n",
      "12/12 [==============================] - 4s 321ms/step - loss: 0.0016 - val_loss: 5.7681e-04\n",
      "Epoch 64/100\n",
      "12/12 [==============================] - 4s 299ms/step - loss: 0.0015 - val_loss: 2.0705e-04\n",
      "Epoch 65/100\n",
      "12/12 [==============================] - 4s 343ms/step - loss: 0.0021 - val_loss: 4.2429e-04\n",
      "Epoch 66/100\n",
      "12/12 [==============================] - 3s 297ms/step - loss: 0.0019 - val_loss: 3.0189e-04\n",
      "Epoch 67/100\n",
      "12/12 [==============================] - 4s 306ms/step - loss: 0.0015 - val_loss: 2.0295e-04\n",
      "Epoch 68/100\n",
      "12/12 [==============================] - 4s 327ms/step - loss: 0.0015 - val_loss: 2.0371e-04\n",
      "Epoch 69/100\n",
      "12/12 [==============================] - 4s 302ms/step - loss: 0.0014 - val_loss: 3.1127e-04\n",
      "Epoch 70/100\n",
      "12/12 [==============================] - 4s 342ms/step - loss: 0.0014 - val_loss: 2.3275e-04\n",
      "Epoch 71/100\n",
      "12/12 [==============================] - 4s 298ms/step - loss: 0.0014 - val_loss: 2.4954e-04\n",
      "Epoch 72/100\n",
      "12/12 [==============================] - 4s 315ms/step - loss: 0.0016 - val_loss: 2.1361e-04\n",
      "Epoch 73/100\n",
      "12/12 [==============================] - 4s 329ms/step - loss: 0.0013 - val_loss: 2.2159e-04\n",
      "Epoch 74/100\n",
      "12/12 [==============================] - 3s 213ms/step - loss: 0.0015 - val_loss: 3.3533e-04\n",
      "Epoch 75/100\n",
      "12/12 [==============================] - 4s 335ms/step - loss: 0.0020 - val_loss: 4.7840e-04\n",
      "Epoch 76/100\n",
      "12/12 [==============================] - 3s 285ms/step - loss: 0.0015 - val_loss: 2.7426e-04\n",
      "Epoch 77/100\n",
      "12/12 [==============================] - 4s 309ms/step - loss: 0.0013 - val_loss: 2.6750e-04\n",
      "Epoch 78/100\n"
     ]
    },
    {
     "name": "stdout",
     "output_type": "stream",
     "text": [
      "12/12 [==============================] - 4s 314ms/step - loss: 0.0013 - val_loss: 1.9541e-04\n",
      "Epoch 79/100\n",
      "12/12 [==============================] - 4s 317ms/step - loss: 0.0014 - val_loss: 3.1374e-04\n",
      "Epoch 80/100\n",
      "12/12 [==============================] - 4s 347ms/step - loss: 0.0015 - val_loss: 2.3264e-04\n",
      "Epoch 81/100\n",
      "12/12 [==============================] - 3s 296ms/step - loss: 0.0017 - val_loss: 2.0982e-04\n",
      "Epoch 82/100\n",
      "12/12 [==============================] - 4s 320ms/step - loss: 0.0019 - val_loss: 3.4259e-04\n",
      "Epoch 83/100\n",
      "12/12 [==============================] - 4s 314ms/step - loss: 0.0016 - val_loss: 2.0354e-04\n",
      "Epoch 84/100\n",
      "12/12 [==============================] - 4s 287ms/step - loss: 0.0015 - val_loss: 2.9578e-04\n",
      "Epoch 85/100\n",
      "12/12 [==============================] - 4s 337ms/step - loss: 0.0017 - val_loss: 4.1431e-04\n",
      "Epoch 86/100\n",
      "12/12 [==============================] - 3s 288ms/step - loss: 0.0019 - val_loss: 2.5613e-04\n",
      "Epoch 87/100\n",
      "12/12 [==============================] - 4s 325ms/step - loss: 0.0012 - val_loss: 2.6206e-04\n",
      "Epoch 88/100\n",
      "12/12 [==============================] - 4s 306ms/step - loss: 0.0018 - val_loss: 3.4060e-04\n",
      "Epoch 89/100\n",
      "12/12 [==============================] - 4s 308ms/step - loss: 0.0015 - val_loss: 1.8139e-04\n",
      "Epoch 90/100\n",
      "12/12 [==============================] - 4s 326ms/step - loss: 0.0017 - val_loss: 7.3837e-04\n",
      "Epoch 91/100\n",
      "12/12 [==============================] - 4s 306ms/step - loss: 0.0015 - val_loss: 3.0281e-04\n",
      "Epoch 92/100\n",
      "12/12 [==============================] - 4s 326ms/step - loss: 0.0016 - val_loss: 2.7039e-04\n",
      "Epoch 93/100\n",
      "12/12 [==============================] - 4s 300ms/step - loss: 0.0014 - val_loss: 3.6228e-04\n",
      "Epoch 94/100\n",
      "12/12 [==============================] - 4s 330ms/step - loss: 0.0013 - val_loss: 2.6402e-04\n",
      "Epoch 95/100\n",
      "12/12 [==============================] - 4s 330ms/step - loss: 0.0011 - val_loss: 3.2729e-04\n",
      "Epoch 96/100\n",
      "12/12 [==============================] - 4s 304ms/step - loss: 0.0011 - val_loss: 2.0679e-04\n",
      "Epoch 97/100\n",
      "12/12 [==============================] - 4s 339ms/step - loss: 0.0026 - val_loss: 8.6866e-04\n",
      "Epoch 98/100\n",
      "12/12 [==============================] - 4s 308ms/step - loss: 0.0016 - val_loss: 1.8480e-04\n",
      "Epoch 99/100\n",
      "12/12 [==============================] - 4s 347ms/step - loss: 0.0017 - val_loss: 2.0637e-04\n",
      "Epoch 100/100\n",
      "12/12 [==============================] - 4s 297ms/step - loss: 0.0015 - val_loss: 3.4580e-04\n"
     ]
    },
    {
     "data": {
      "text/plain": [
       "<keras.callbacks.History at 0x248ee91ddb0>"
      ]
     },
     "execution_count": 52,
     "metadata": {},
     "output_type": "execute_result"
    }
   ],
   "source": [
    "model.fit(X_train,Y_train,validation_data=(X_test,Y_test),epochs=100,batch_size=64,verbose=1)"
   ]
  },
  {
   "cell_type": "code",
   "execution_count": 53,
   "id": "029abd60",
   "metadata": {},
   "outputs": [],
   "source": [
    "import tensorflow as tf"
   ]
  },
  {
   "cell_type": "code",
   "execution_count": 55,
   "id": "f3073064",
   "metadata": {},
   "outputs": [
    {
     "data": {
      "text/plain": [
       "'2.8.0'"
      ]
     },
     "execution_count": 55,
     "metadata": {},
     "output_type": "execute_result"
    }
   ],
   "source": [
    "tf.__version__"
   ]
  },
  {
   "cell_type": "code",
   "execution_count": 54,
   "id": "b4123469",
   "metadata": {},
   "outputs": [],
   "source": [
    "train_predict=model.predict(X_train)\n",
    "test_predict=model.predict(X_test)"
   ]
  },
  {
   "cell_type": "code",
   "execution_count": 56,
   "id": "47cd20a9",
   "metadata": {},
   "outputs": [],
   "source": [
    "train_predict=scaler.inverse_transform(train_predict)\n",
    "test_predict=scaler.inverse_transform(test_predict)"
   ]
  },
  {
   "cell_type": "code",
   "execution_count": 59,
   "id": "70330b93",
   "metadata": {},
   "outputs": [
    {
     "data": {
      "text/plain": [
       "238.84270589259293"
      ]
     },
     "execution_count": 59,
     "metadata": {},
     "output_type": "execute_result"
    }
   ],
   "source": [
    "import math\n",
    "from sklearn.metrics import mean_squared_error\n",
    "math.sqrt(mean_squared_error(Y_train, train_predict))"
   ]
  },
  {
   "cell_type": "code",
   "execution_count": 60,
   "id": "ff87e29a",
   "metadata": {},
   "outputs": [
    {
     "data": {
      "text/plain": [
       "154.7463260398713"
      ]
     },
     "execution_count": 60,
     "metadata": {},
     "output_type": "execute_result"
    }
   ],
   "source": [
    "math.sqrt(mean_squared_error(Y_test, test_predict))"
   ]
  },
  {
   "cell_type": "code",
   "execution_count": 61,
   "id": "13688bab",
   "metadata": {},
   "outputs": [
    {
     "data": {
      "image/png": "[encoded data removed]",
      "text/plain": [
       "<Figure size 432x288 with 1 Axes>"
      ]
     },
     "metadata": {
      "needs_background": "light"
     },
     "output_type": "display_data"
    }
   ],
   "source": [
    "look_back=100\n",
    "trainPredictPlot=np.empty_like(df1)\n",
    "trainPredictPlot[:,:]=np.nan\n",
    "trainPredictPlot[look_back:len(train_predict)+look_back,:]=train_predict\n",
    "\n",
    "testPredictPlot=np.empty_like(df1)\n",
    "testPredictPlot[:,:]=np.nan\n",
    "testPredictPlot[len(train_predict)+(look_back*2)+1:len(df1)-1,:]=test_predict\n",
    "\n",
    "plt.plot(scaler.inverse_transform(df1))\n",
    "plt.plot(trainPredictPlot)\n",
    "plt.plot(testPredictPlot)\n",
    "plt.show()"
   ]
  },
  {
   "cell_type": "code",
   "execution_count": 63,
   "id": "2431e904",
   "metadata": {},
   "outputs": [
    {
     "data": {
      "text/plain": [
       "(1, 100)"
      ]
     },
     "execution_count": 63,
     "metadata": {},
     "output_type": "execute_result"
    }
   ],
   "source": [
    "x_input=test_data[341:].reshape(1,-1)\n",
    "x_input.shape"
   ]
  },
  {
   "cell_type": "code",
   "execution_count": 64,
   "id": "10d769c3",
   "metadata": {},
   "outputs": [],
   "source": [
    "temp_input=list(x_input)\n",
    "temp_input=temp_input[0].tolist()"
   ]
  },
  {
   "cell_type": "code",
   "execution_count": 66,
   "id": "08c8fd8c",
   "metadata": {},
   "outputs": [
    {
     "name": "stdout",
     "output_type": "stream",
     "text": [
      "[0.09887923]\n",
      "101\n",
      "1 day input [0.16518472 0.16458359 0.15539136 0.15143394 0.14396994 0.13332498\n",
      " 0.14001252 0.14529743 0.1459737  0.14116468 0.14958046 0.14875391\n",
      " 0.14108954 0.13139637 0.12673763 0.14053851 0.12944271 0.11994991\n",
      " 0.1096556  0.1208516  0.13212273 0.13470257 0.14311835 0.14662492\n",
      " 0.15524108 0.1587226  0.16839073 0.17001879 0.17222292 0.1806387\n",
      " 0.17765811 0.16974327 0.16899186 0.17933626 0.17087038 0.16278021\n",
      " 0.16355667 0.15842204 0.14755166 0.15233563 0.1591985  0.1463995\n",
      " 0.14584847 0.15168441 0.15125861 0.14922981 0.13763306 0.14036318\n",
      " 0.12513463 0.12455855 0.14226675 0.12726362 0.12804008 0.13184721\n",
      " 0.14822793 0.12505949 0.12633688 0.11326237 0.11939887 0.09933626\n",
      " 0.08946775 0.10086412 0.09693175 0.10619912 0.08510958 0.07641828\n",
      " 0.07701941 0.09084534 0.08395742 0.08435817 0.09252348 0.107201\n",
      " 0.10519724 0.10487163 0.11113338 0.096531   0.09843456 0.10487163\n",
      " 0.10299311 0.08966813 0.07586725 0.0627176  0.06492173 0.07160927\n",
      " 0.05815905 0.06191609 0.07271133 0.07140889 0.0787226  0.08721353\n",
      " 0.08721353 0.07664371 0.08112711 0.07484033 0.0803757  0.08696306\n",
      " 0.09036944 0.09896055 0.10068879 0.09887923]\n",
      "1 day output [[0.10133994]]\n",
      "2 day input [0.16458359 0.15539136 0.15143394 0.14396994 0.13332498 0.14001252\n",
      " 0.14529743 0.1459737  0.14116468 0.14958046 0.14875391 0.14108954\n",
      " 0.13139637 0.12673763 0.14053851 0.12944271 0.11994991 0.1096556\n",
      " 0.1208516  0.13212273 0.13470257 0.14311835 0.14662492 0.15524108\n",
      " 0.1587226  0.16839073 0.17001879 0.17222292 0.1806387  0.17765811\n",
      " 0.16974327 0.16899186 0.17933626 0.17087038 0.16278021 0.16355667\n",
      " 0.15842204 0.14755166 0.15233563 0.1591985  0.1463995  0.14584847\n",
      " 0.15168441 0.15125861 0.14922981 0.13763306 0.14036318 0.12513463\n",
      " 0.12455855 0.14226675 0.12726362 0.12804008 0.13184721 0.14822793\n",
      " 0.12505949 0.12633688 0.11326237 0.11939887 0.09933626 0.08946775\n",
      " 0.10086412 0.09693175 0.10619912 0.08510958 0.07641828 0.07701941\n",
      " 0.09084534 0.08395742 0.08435817 0.09252348 0.107201   0.10519724\n",
      " 0.10487163 0.11113338 0.096531   0.09843456 0.10487163 0.10299311\n",
      " 0.08966813 0.07586725 0.0627176  0.06492173 0.07160927 0.05815905\n",
      " 0.06191609 0.07271133 0.07140889 0.0787226  0.08721353 0.08721353\n",
      " 0.07664371 0.08112711 0.07484033 0.0803757  0.08696306 0.09036944\n",
      " 0.09896055 0.10068879 0.09887923 0.10133994]\n",
      "2 day output [[0.10385045]]\n",
      "3 day input [0.15539136 0.15143394 0.14396994 0.13332498 0.14001252 0.14529743\n",
      " 0.1459737  0.14116468 0.14958046 0.14875391 0.14108954 0.13139637\n",
      " 0.12673763 0.14053851 0.12944271 0.11994991 0.1096556  0.1208516\n",
      " 0.13212273 0.13470257 0.14311835 0.14662492 0.15524108 0.1587226\n",
      " 0.16839073 0.17001879 0.17222292 0.1806387  0.17765811 0.16974327\n",
      " 0.16899186 0.17933626 0.17087038 0.16278021 0.16355667 0.15842204\n",
      " 0.14755166 0.15233563 0.1591985  0.1463995  0.14584847 0.15168441\n",
      " 0.15125861 0.14922981 0.13763306 0.14036318 0.12513463 0.12455855\n",
      " 0.14226675 0.12726362 0.12804008 0.13184721 0.14822793 0.12505949\n",
      " 0.12633688 0.11326237 0.11939887 0.09933626 0.08946775 0.10086412\n",
      " 0.09693175 0.10619912 0.08510958 0.07641828 0.07701941 0.09084534\n",
      " 0.08395742 0.08435817 0.09252348 0.107201   0.10519724 0.10487163\n",
      " 0.11113338 0.096531   0.09843456 0.10487163 0.10299311 0.08966813\n",
      " 0.07586725 0.0627176  0.06492173 0.07160927 0.05815905 0.06191609\n",
      " 0.07271133 0.07140889 0.0787226  0.08721353 0.08721353 0.07664371\n",
      " 0.08112711 0.07484033 0.0803757  0.08696306 0.09036944 0.09896055\n",
      " 0.10068879 0.09887923 0.10133994 0.10385045]\n",
      "3 day output [[0.10634179]]\n",
      "4 day input [0.15143394 0.14396994 0.13332498 0.14001252 0.14529743 0.1459737\n",
      " 0.14116468 0.14958046 0.14875391 0.14108954 0.13139637 0.12673763\n",
      " 0.14053851 0.12944271 0.11994991 0.1096556  0.1208516  0.13212273\n",
      " 0.13470257 0.14311835 0.14662492 0.15524108 0.1587226  0.16839073\n",
      " 0.17001879 0.17222292 0.1806387  0.17765811 0.16974327 0.16899186\n",
      " 0.17933626 0.17087038 0.16278021 0.16355667 0.15842204 0.14755166\n",
      " 0.15233563 0.1591985  0.1463995  0.14584847 0.15168441 0.15125861\n",
      " 0.14922981 0.13763306 0.14036318 0.12513463 0.12455855 0.14226675\n",
      " 0.12726362 0.12804008 0.13184721 0.14822793 0.12505949 0.12633688\n",
      " 0.11326237 0.11939887 0.09933626 0.08946775 0.10086412 0.09693175\n",
      " 0.10619912 0.08510958 0.07641828 0.07701941 0.09084534 0.08395742\n",
      " 0.08435817 0.09252348 0.107201   0.10519724 0.10487163 0.11113338\n",
      " 0.096531   0.09843456 0.10487163 0.10299311 0.08966813 0.07586725\n",
      " 0.0627176  0.06492173 0.07160927 0.05815905 0.06191609 0.07271133\n",
      " 0.07140889 0.0787226  0.08721353 0.08721353 0.07664371 0.08112711\n",
      " 0.07484033 0.0803757  0.08696306 0.09036944 0.09896055 0.10068879\n",
      " 0.09887923 0.10133994 0.10385045 0.10634179]\n",
      "4 day output [[0.10878804]]\n",
      "5 day input [0.14396994 0.13332498 0.14001252 0.14529743 0.1459737  0.14116468\n",
      " 0.14958046 0.14875391 0.14108954 0.13139637 0.12673763 0.14053851\n",
      " 0.12944271 0.11994991 0.1096556  0.1208516  0.13212273 0.13470257\n",
      " 0.14311835 0.14662492 0.15524108 0.1587226  0.16839073 0.17001879\n",
      " 0.17222292 0.1806387  0.17765811 0.16974327 0.16899186 0.17933626\n",
      " 0.17087038 0.16278021 0.16355667 0.15842204 0.14755166 0.15233563\n",
      " 0.1591985  0.1463995  0.14584847 0.15168441 0.15125861 0.14922981\n",
      " 0.13763306 0.14036318 0.12513463 0.12455855 0.14226675 0.12726362\n",
      " 0.12804008 0.13184721 0.14822793 0.12505949 0.12633688 0.11326237\n",
      " 0.11939887 0.09933626 0.08946775 0.10086412 0.09693175 0.10619912\n",
      " 0.08510958 0.07641828 0.07701941 0.09084534 0.08395742 0.08435817\n",
      " 0.09252348 0.107201   0.10519724 0.10487163 0.11113338 0.096531\n",
      " 0.09843456 0.10487163 0.10299311 0.08966813 0.07586725 0.0627176\n",
      " 0.06492173 0.07160927 0.05815905 0.06191609 0.07271133 0.07140889\n",
      " 0.0787226  0.08721353 0.08721353 0.07664371 0.08112711 0.07484033\n",
      " 0.0803757  0.08696306 0.09036944 0.09896055 0.10068879 0.09887923\n",
      " 0.10133994 0.10385045 0.10634179 0.10878804]\n",
      "5 day output [[0.11118355]]\n",
      "6 day input [0.13332498 0.14001252 0.14529743 0.1459737  0.14116468 0.14958046\n",
      " 0.14875391 0.14108954 0.13139637 0.12673763 0.14053851 0.12944271\n",
      " 0.11994991 0.1096556  0.1208516  0.13212273 0.13470257 0.14311835\n",
      " 0.14662492 0.15524108 0.1587226  0.16839073 0.17001879 0.17222292\n",
      " 0.1806387  0.17765811 0.16974327 0.16899186 0.17933626 0.17087038\n",
      " 0.16278021 0.16355667 0.15842204 0.14755166 0.15233563 0.1591985\n",
      " 0.1463995  0.14584847 0.15168441 0.15125861 0.14922981 0.13763306\n",
      " 0.14036318 0.12513463 0.12455855 0.14226675 0.12726362 0.12804008\n",
      " 0.13184721 0.14822793 0.12505949 0.12633688 0.11326237 0.11939887\n",
      " 0.09933626 0.08946775 0.10086412 0.09693175 0.10619912 0.08510958\n",
      " 0.07641828 0.07701941 0.09084534 0.08395742 0.08435817 0.09252348\n",
      " 0.107201   0.10519724 0.10487163 0.11113338 0.096531   0.09843456\n",
      " 0.10487163 0.10299311 0.08966813 0.07586725 0.0627176  0.06492173\n",
      " 0.07160927 0.05815905 0.06191609 0.07271133 0.07140889 0.0787226\n",
      " 0.08721353 0.08721353 0.07664371 0.08112711 0.07484033 0.0803757\n",
      " 0.08696306 0.09036944 0.09896055 0.10068879 0.09887923 0.10133994\n",
      " 0.10385045 0.10634179 0.10878804 0.11118355]\n",
      "6 day output [[0.11353046]]\n",
      "7 day input [0.14001252 0.14529743 0.1459737  0.14116468 0.14958046 0.14875391\n",
      " 0.14108954 0.13139637 0.12673763 0.14053851 0.12944271 0.11994991\n",
      " 0.1096556  0.1208516  0.13212273 0.13470257 0.14311835 0.14662492\n",
      " 0.15524108 0.1587226  0.16839073 0.17001879 0.17222292 0.1806387\n",
      " 0.17765811 0.16974327 0.16899186 0.17933626 0.17087038 0.16278021\n",
      " 0.16355667 0.15842204 0.14755166 0.15233563 0.1591985  0.1463995\n",
      " 0.14584847 0.15168441 0.15125861 0.14922981 0.13763306 0.14036318\n",
      " 0.12513463 0.12455855 0.14226675 0.12726362 0.12804008 0.13184721\n",
      " 0.14822793 0.12505949 0.12633688 0.11326237 0.11939887 0.09933626\n",
      " 0.08946775 0.10086412 0.09693175 0.10619912 0.08510958 0.07641828\n",
      " 0.07701941 0.09084534 0.08395742 0.08435817 0.09252348 0.107201\n",
      " 0.10519724 0.10487163 0.11113338 0.096531   0.09843456 0.10487163\n",
      " 0.10299311 0.08966813 0.07586725 0.0627176  0.06492173 0.07160927\n",
      " 0.05815905 0.06191609 0.07271133 0.07140889 0.0787226  0.08721353\n",
      " 0.08721353 0.07664371 0.08112711 0.07484033 0.0803757  0.08696306\n",
      " 0.09036944 0.09896055 0.10068879 0.09887923 0.10133994 0.10385045\n",
      " 0.10634179 0.10878804 0.11118355 0.11353046]\n",
      "7 day output [[0.11583279]]\n",
      "8 day input [0.14529743 0.1459737  0.14116468 0.14958046 0.14875391 0.14108954\n",
      " 0.13139637 0.12673763 0.14053851 0.12944271 0.11994991 0.1096556\n",
      " 0.1208516  0.13212273 0.13470257 0.14311835 0.14662492 0.15524108\n",
      " 0.1587226  0.16839073 0.17001879 0.17222292 0.1806387  0.17765811\n",
      " 0.16974327 0.16899186 0.17933626 0.17087038 0.16278021 0.16355667\n",
      " 0.15842204 0.14755166 0.15233563 0.1591985  0.1463995  0.14584847\n",
      " 0.15168441 0.15125861 0.14922981 0.13763306 0.14036318 0.12513463\n",
      " 0.12455855 0.14226675 0.12726362 0.12804008 0.13184721 0.14822793\n",
      " 0.12505949 0.12633688 0.11326237 0.11939887 0.09933626 0.08946775\n",
      " 0.10086412 0.09693175 0.10619912 0.08510958 0.07641828 0.07701941\n",
      " 0.09084534 0.08395742 0.08435817 0.09252348 0.107201   0.10519724\n",
      " 0.10487163 0.11113338 0.096531   0.09843456 0.10487163 0.10299311\n",
      " 0.08966813 0.07586725 0.0627176  0.06492173 0.07160927 0.05815905\n",
      " 0.06191609 0.07271133 0.07140889 0.0787226  0.08721353 0.08721353\n",
      " 0.07664371 0.08112711 0.07484033 0.0803757  0.08696306 0.09036944\n",
      " 0.09896055 0.10068879 0.09887923 0.10133994 0.10385045 0.10634179\n",
      " 0.10878804 0.11118355 0.11353046 0.11583279]\n",
      "8 day output [[0.11809419]]\n",
      "9 day input [0.1459737  0.14116468 0.14958046 0.14875391 0.14108954 0.13139637\n",
      " 0.12673763 0.14053851 0.12944271 0.11994991 0.1096556  0.1208516\n",
      " 0.13212273 0.13470257 0.14311835 0.14662492 0.15524108 0.1587226\n",
      " 0.16839073 0.17001879 0.17222292 0.1806387  0.17765811 0.16974327\n",
      " 0.16899186 0.17933626 0.17087038 0.16278021 0.16355667 0.15842204\n",
      " 0.14755166 0.15233563 0.1591985  0.1463995  0.14584847 0.15168441\n",
      " 0.15125861 0.14922981 0.13763306 0.14036318 0.12513463 0.12455855\n",
      " 0.14226675 0.12726362 0.12804008 0.13184721 0.14822793 0.12505949\n",
      " 0.12633688 0.11326237 0.11939887 0.09933626 0.08946775 0.10086412\n",
      " 0.09693175 0.10619912 0.08510958 0.07641828 0.07701941 0.09084534\n",
      " 0.08395742 0.08435817 0.09252348 0.107201   0.10519724 0.10487163\n",
      " 0.11113338 0.096531   0.09843456 0.10487163 0.10299311 0.08966813\n",
      " 0.07586725 0.0627176  0.06492173 0.07160927 0.05815905 0.06191609\n",
      " 0.07271133 0.07140889 0.0787226  0.08721353 0.08721353 0.07664371\n",
      " 0.08112711 0.07484033 0.0803757  0.08696306 0.09036944 0.09896055\n",
      " 0.10068879 0.09887923 0.10133994 0.10385045 0.10634179 0.10878804\n",
      " 0.11118355 0.11353046 0.11583279 0.11809419]\n"
     ]
    },
    {
     "name": "stdout",
     "output_type": "stream",
     "text": [
      "9 day output [[0.12031749]]\n",
      "10 day input [0.14116468 0.14958046 0.14875391 0.14108954 0.13139637 0.12673763\n",
      " 0.14053851 0.12944271 0.11994991 0.1096556  0.1208516  0.13212273\n",
      " 0.13470257 0.14311835 0.14662492 0.15524108 0.1587226  0.16839073\n",
      " 0.17001879 0.17222292 0.1806387  0.17765811 0.16974327 0.16899186\n",
      " 0.17933626 0.17087038 0.16278021 0.16355667 0.15842204 0.14755166\n",
      " 0.15233563 0.1591985  0.1463995  0.14584847 0.15168441 0.15125861\n",
      " 0.14922981 0.13763306 0.14036318 0.12513463 0.12455855 0.14226675\n",
      " 0.12726362 0.12804008 0.13184721 0.14822793 0.12505949 0.12633688\n",
      " 0.11326237 0.11939887 0.09933626 0.08946775 0.10086412 0.09693175\n",
      " 0.10619912 0.08510958 0.07641828 0.07701941 0.09084534 0.08395742\n",
      " 0.08435817 0.09252348 0.107201   0.10519724 0.10487163 0.11113338\n",
      " 0.096531   0.09843456 0.10487163 0.10299311 0.08966813 0.07586725\n",
      " 0.0627176  0.06492173 0.07160927 0.05815905 0.06191609 0.07271133\n",
      " 0.07140889 0.0787226  0.08721353 0.08721353 0.07664371 0.08112711\n",
      " 0.07484033 0.0803757  0.08696306 0.09036944 0.09896055 0.10068879\n",
      " 0.09887923 0.10133994 0.10385045 0.10634179 0.10878804 0.11118355\n",
      " 0.11353046 0.11583279 0.11809419 0.12031749]\n",
      "10 day output [[0.1225047]]\n",
      "11 day input [0.14958046 0.14875391 0.14108954 0.13139637 0.12673763 0.14053851\n",
      " 0.12944271 0.11994991 0.1096556  0.1208516  0.13212273 0.13470257\n",
      " 0.14311835 0.14662492 0.15524108 0.1587226  0.16839073 0.17001879\n",
      " 0.17222292 0.1806387  0.17765811 0.16974327 0.16899186 0.17933626\n",
      " 0.17087038 0.16278021 0.16355667 0.15842204 0.14755166 0.15233563\n",
      " 0.1591985  0.1463995  0.14584847 0.15168441 0.15125861 0.14922981\n",
      " 0.13763306 0.14036318 0.12513463 0.12455855 0.14226675 0.12726362\n",
      " 0.12804008 0.13184721 0.14822793 0.12505949 0.12633688 0.11326237\n",
      " 0.11939887 0.09933626 0.08946775 0.10086412 0.09693175 0.10619912\n",
      " 0.08510958 0.07641828 0.07701941 0.09084534 0.08395742 0.08435817\n",
      " 0.09252348 0.107201   0.10519724 0.10487163 0.11113338 0.096531\n",
      " 0.09843456 0.10487163 0.10299311 0.08966813 0.07586725 0.0627176\n",
      " 0.06492173 0.07160927 0.05815905 0.06191609 0.07271133 0.07140889\n",
      " 0.0787226  0.08721353 0.08721353 0.07664371 0.08112711 0.07484033\n",
      " 0.0803757  0.08696306 0.09036944 0.09896055 0.10068879 0.09887923\n",
      " 0.10133994 0.10385045 0.10634179 0.10878804 0.11118355 0.11353046\n",
      " 0.11583279 0.11809419 0.12031749 0.1225047 ]\n",
      "11 day output [[0.12465748]]\n",
      "12 day input [0.14875391 0.14108954 0.13139637 0.12673763 0.14053851 0.12944271\n",
      " 0.11994991 0.1096556  0.1208516  0.13212273 0.13470257 0.14311835\n",
      " 0.14662492 0.15524108 0.1587226  0.16839073 0.17001879 0.17222292\n",
      " 0.1806387  0.17765811 0.16974327 0.16899186 0.17933626 0.17087038\n",
      " 0.16278021 0.16355667 0.15842204 0.14755166 0.15233563 0.1591985\n",
      " 0.1463995  0.14584847 0.15168441 0.15125861 0.14922981 0.13763306\n",
      " 0.14036318 0.12513463 0.12455855 0.14226675 0.12726362 0.12804008\n",
      " 0.13184721 0.14822793 0.12505949 0.12633688 0.11326237 0.11939887\n",
      " 0.09933626 0.08946775 0.10086412 0.09693175 0.10619912 0.08510958\n",
      " 0.07641828 0.07701941 0.09084534 0.08395742 0.08435817 0.09252348\n",
      " 0.107201   0.10519724 0.10487163 0.11113338 0.096531   0.09843456\n",
      " 0.10487163 0.10299311 0.08966813 0.07586725 0.0627176  0.06492173\n",
      " 0.07160927 0.05815905 0.06191609 0.07271133 0.07140889 0.0787226\n",
      " 0.08721353 0.08721353 0.07664371 0.08112711 0.07484033 0.0803757\n",
      " 0.08696306 0.09036944 0.09896055 0.10068879 0.09887923 0.10133994\n",
      " 0.10385045 0.10634179 0.10878804 0.11118355 0.11353046 0.11583279\n",
      " 0.11809419 0.12031749 0.1225047  0.12465748]\n",
      "12 day output [[0.1267773]]\n",
      "13 day input [0.14108954 0.13139637 0.12673763 0.14053851 0.12944271 0.11994991\n",
      " 0.1096556  0.1208516  0.13212273 0.13470257 0.14311835 0.14662492\n",
      " 0.15524108 0.1587226  0.16839073 0.17001879 0.17222292 0.1806387\n",
      " 0.17765811 0.16974327 0.16899186 0.17933626 0.17087038 0.16278021\n",
      " 0.16355667 0.15842204 0.14755166 0.15233563 0.1591985  0.1463995\n",
      " 0.14584847 0.15168441 0.15125861 0.14922981 0.13763306 0.14036318\n",
      " 0.12513463 0.12455855 0.14226675 0.12726362 0.12804008 0.13184721\n",
      " 0.14822793 0.12505949 0.12633688 0.11326237 0.11939887 0.09933626\n",
      " 0.08946775 0.10086412 0.09693175 0.10619912 0.08510958 0.07641828\n",
      " 0.07701941 0.09084534 0.08395742 0.08435817 0.09252348 0.107201\n",
      " 0.10519724 0.10487163 0.11113338 0.096531   0.09843456 0.10487163\n",
      " 0.10299311 0.08966813 0.07586725 0.0627176  0.06492173 0.07160927\n",
      " 0.05815905 0.06191609 0.07271133 0.07140889 0.0787226  0.08721353\n",
      " 0.08721353 0.07664371 0.08112711 0.07484033 0.0803757  0.08696306\n",
      " 0.09036944 0.09896055 0.10068879 0.09887923 0.10133994 0.10385045\n",
      " 0.10634179 0.10878804 0.11118355 0.11353046 0.11583279 0.11809419\n",
      " 0.12031749 0.1225047  0.12465748 0.12677731]\n",
      "13 day output [[0.12886564]]\n",
      "14 day input [0.13139637 0.12673763 0.14053851 0.12944271 0.11994991 0.1096556\n",
      " 0.1208516  0.13212273 0.13470257 0.14311835 0.14662492 0.15524108\n",
      " 0.1587226  0.16839073 0.17001879 0.17222292 0.1806387  0.17765811\n",
      " 0.16974327 0.16899186 0.17933626 0.17087038 0.16278021 0.16355667\n",
      " 0.15842204 0.14755166 0.15233563 0.1591985  0.1463995  0.14584847\n",
      " 0.15168441 0.15125861 0.14922981 0.13763306 0.14036318 0.12513463\n",
      " 0.12455855 0.14226675 0.12726362 0.12804008 0.13184721 0.14822793\n",
      " 0.12505949 0.12633688 0.11326237 0.11939887 0.09933626 0.08946775\n",
      " 0.10086412 0.09693175 0.10619912 0.08510958 0.07641828 0.07701941\n",
      " 0.09084534 0.08395742 0.08435817 0.09252348 0.107201   0.10519724\n",
      " 0.10487163 0.11113338 0.096531   0.09843456 0.10487163 0.10299311\n",
      " 0.08966813 0.07586725 0.0627176  0.06492173 0.07160927 0.05815905\n",
      " 0.06191609 0.07271133 0.07140889 0.0787226  0.08721353 0.08721353\n",
      " 0.07664371 0.08112711 0.07484033 0.0803757  0.08696306 0.09036944\n",
      " 0.09896055 0.10068879 0.09887923 0.10133994 0.10385045 0.10634179\n",
      " 0.10878804 0.11118355 0.11353046 0.11583279 0.11809419 0.12031749\n",
      " 0.1225047  0.12465748 0.12677731 0.12886564]\n",
      "14 day output [[0.13092414]]\n",
      "15 day input [0.12673763 0.14053851 0.12944271 0.11994991 0.1096556  0.1208516\n",
      " 0.13212273 0.13470257 0.14311835 0.14662492 0.15524108 0.1587226\n",
      " 0.16839073 0.17001879 0.17222292 0.1806387  0.17765811 0.16974327\n",
      " 0.16899186 0.17933626 0.17087038 0.16278021 0.16355667 0.15842204\n",
      " 0.14755166 0.15233563 0.1591985  0.1463995  0.14584847 0.15168441\n",
      " 0.15125861 0.14922981 0.13763306 0.14036318 0.12513463 0.12455855\n",
      " 0.14226675 0.12726362 0.12804008 0.13184721 0.14822793 0.12505949\n",
      " 0.12633688 0.11326237 0.11939887 0.09933626 0.08946775 0.10086412\n",
      " 0.09693175 0.10619912 0.08510958 0.07641828 0.07701941 0.09084534\n",
      " 0.08395742 0.08435817 0.09252348 0.107201   0.10519724 0.10487163\n",
      " 0.11113338 0.096531   0.09843456 0.10487163 0.10299311 0.08966813\n",
      " 0.07586725 0.0627176  0.06492173 0.07160927 0.05815905 0.06191609\n",
      " 0.07271133 0.07140889 0.0787226  0.08721353 0.08721353 0.07664371\n",
      " 0.08112711 0.07484033 0.0803757  0.08696306 0.09036944 0.09896055\n",
      " 0.10068879 0.09887923 0.10133994 0.10385045 0.10634179 0.10878804\n",
      " 0.11118355 0.11353046 0.11583279 0.11809419 0.12031749 0.1225047\n",
      " 0.12465748 0.12677731 0.12886564 0.13092414]\n",
      "15 day output [[0.13295427]]\n",
      "16 day input [0.14053851 0.12944271 0.11994991 0.1096556  0.1208516  0.13212273\n",
      " 0.13470257 0.14311835 0.14662492 0.15524108 0.1587226  0.16839073\n",
      " 0.17001879 0.17222292 0.1806387  0.17765811 0.16974327 0.16899186\n",
      " 0.17933626 0.17087038 0.16278021 0.16355667 0.15842204 0.14755166\n",
      " 0.15233563 0.1591985  0.1463995  0.14584847 0.15168441 0.15125861\n",
      " 0.14922981 0.13763306 0.14036318 0.12513463 0.12455855 0.14226675\n",
      " 0.12726362 0.12804008 0.13184721 0.14822793 0.12505949 0.12633688\n",
      " 0.11326237 0.11939887 0.09933626 0.08946775 0.10086412 0.09693175\n",
      " 0.10619912 0.08510958 0.07641828 0.07701941 0.09084534 0.08395742\n",
      " 0.08435817 0.09252348 0.107201   0.10519724 0.10487163 0.11113338\n",
      " 0.096531   0.09843456 0.10487163 0.10299311 0.08966813 0.07586725\n",
      " 0.0627176  0.06492173 0.07160927 0.05815905 0.06191609 0.07271133\n",
      " 0.07140889 0.0787226  0.08721353 0.08721353 0.07664371 0.08112711\n",
      " 0.07484033 0.0803757  0.08696306 0.09036944 0.09896055 0.10068879\n",
      " 0.09887923 0.10133994 0.10385045 0.10634179 0.10878804 0.11118355\n",
      " 0.11353046 0.11583279 0.11809419 0.12031749 0.1225047  0.12465748\n",
      " 0.12677731 0.12886564 0.13092414 0.13295427]\n",
      "16 day output [[0.13495776]]\n",
      "17 day input [0.12944271 0.11994991 0.1096556  0.1208516  0.13212273 0.13470257\n",
      " 0.14311835 0.14662492 0.15524108 0.1587226  0.16839073 0.17001879\n",
      " 0.17222292 0.1806387  0.17765811 0.16974327 0.16899186 0.17933626\n",
      " 0.17087038 0.16278021 0.16355667 0.15842204 0.14755166 0.15233563\n",
      " 0.1591985  0.1463995  0.14584847 0.15168441 0.15125861 0.14922981\n",
      " 0.13763306 0.14036318 0.12513463 0.12455855 0.14226675 0.12726362\n",
      " 0.12804008 0.13184721 0.14822793 0.12505949 0.12633688 0.11326237\n",
      " 0.11939887 0.09933626 0.08946775 0.10086412 0.09693175 0.10619912\n",
      " 0.08510958 0.07641828 0.07701941 0.09084534 0.08395742 0.08435817\n",
      " 0.09252348 0.107201   0.10519724 0.10487163 0.11113338 0.096531\n",
      " 0.09843456 0.10487163 0.10299311 0.08966813 0.07586725 0.0627176\n",
      " 0.06492173 0.07160927 0.05815905 0.06191609 0.07271133 0.07140889\n",
      " 0.0787226  0.08721353 0.08721353 0.07664371 0.08112711 0.07484033\n",
      " 0.0803757  0.08696306 0.09036944 0.09896055 0.10068879 0.09887923\n",
      " 0.10133994 0.10385045 0.10634179 0.10878804 0.11118355 0.11353046\n",
      " 0.11583279 0.11809419 0.12031749 0.1225047  0.12465748 0.12677731\n",
      " 0.12886564 0.13092414 0.13295427 0.13495776]\n",
      "17 day output [[0.13693608]]\n",
      "18 day input [0.11994991 0.1096556  0.1208516  0.13212273 0.13470257 0.14311835\n",
      " 0.14662492 0.15524108 0.1587226  0.16839073 0.17001879 0.17222292\n",
      " 0.1806387  0.17765811 0.16974327 0.16899186 0.17933626 0.17087038\n",
      " 0.16278021 0.16355667 0.15842204 0.14755166 0.15233563 0.1591985\n",
      " 0.1463995  0.14584847 0.15168441 0.15125861 0.14922981 0.13763306\n",
      " 0.14036318 0.12513463 0.12455855 0.14226675 0.12726362 0.12804008\n",
      " 0.13184721 0.14822793 0.12505949 0.12633688 0.11326237 0.11939887\n",
      " 0.09933626 0.08946775 0.10086412 0.09693175 0.10619912 0.08510958\n",
      " 0.07641828 0.07701941 0.09084534 0.08395742 0.08435817 0.09252348\n",
      " 0.107201   0.10519724 0.10487163 0.11113338 0.096531   0.09843456\n",
      " 0.10487163 0.10299311 0.08966813 0.07586725 0.0627176  0.06492173\n",
      " 0.07160927 0.05815905 0.06191609 0.07271133 0.07140889 0.0787226\n",
      " 0.08721353 0.08721353 0.07664371 0.08112711 0.07484033 0.0803757\n",
      " 0.08696306 0.09036944 0.09896055 0.10068879 0.09887923 0.10133994\n",
      " 0.10385045 0.10634179 0.10878804 0.11118355 0.11353046 0.11583279\n",
      " 0.11809419 0.12031749 0.1225047  0.12465748 0.12677731 0.12886564\n",
      " 0.13092414 0.13295427 0.13495776 0.13693608]\n",
      "18 day output [[0.13889068]]\n",
      "19 day input [0.1096556  0.1208516  0.13212273 0.13470257 0.14311835 0.14662492\n",
      " 0.15524108 0.1587226  0.16839073 0.17001879 0.17222292 0.1806387\n",
      " 0.17765811 0.16974327 0.16899186 0.17933626 0.17087038 0.16278021\n",
      " 0.16355667 0.15842204 0.14755166 0.15233563 0.1591985  0.1463995\n",
      " 0.14584847 0.15168441 0.15125861 0.14922981 0.13763306 0.14036318\n",
      " 0.12513463 0.12455855 0.14226675 0.12726362 0.12804008 0.13184721\n",
      " 0.14822793 0.12505949 0.12633688 0.11326237 0.11939887 0.09933626\n",
      " 0.08946775 0.10086412 0.09693175 0.10619912 0.08510958 0.07641828\n",
      " 0.07701941 0.09084534 0.08395742 0.08435817 0.09252348 0.107201\n",
      " 0.10519724 0.10487163 0.11113338 0.096531   0.09843456 0.10487163\n",
      " 0.10299311 0.08966813 0.07586725 0.0627176  0.06492173 0.07160927\n",
      " 0.05815905 0.06191609 0.07271133 0.07140889 0.0787226  0.08721353\n",
      " 0.08721353 0.07664371 0.08112711 0.07484033 0.0803757  0.08696306\n",
      " 0.09036944 0.09896055 0.10068879 0.09887923 0.10133994 0.10385045\n",
      " 0.10634179 0.10878804 0.11118355 0.11353046 0.11583279 0.11809419\n",
      " 0.12031749 0.1225047  0.12465748 0.12677731 0.12886564 0.13092414\n",
      " 0.13295427 0.13495776 0.13693608 0.13889068]\n",
      "19 day output [[0.14082287]]\n",
      "20 day input [0.1208516  0.13212273 0.13470257 0.14311835 0.14662492 0.15524108\n",
      " 0.1587226  0.16839073 0.17001879 0.17222292 0.1806387  0.17765811\n",
      " 0.16974327 0.16899186 0.17933626 0.17087038 0.16278021 0.16355667\n",
      " 0.15842204 0.14755166 0.15233563 0.1591985  0.1463995  0.14584847\n",
      " 0.15168441 0.15125861 0.14922981 0.13763306 0.14036318 0.12513463\n",
      " 0.12455855 0.14226675 0.12726362 0.12804008 0.13184721 0.14822793\n",
      " 0.12505949 0.12633688 0.11326237 0.11939887 0.09933626 0.08946775\n",
      " 0.10086412 0.09693175 0.10619912 0.08510958 0.07641828 0.07701941\n",
      " 0.09084534 0.08395742 0.08435817 0.09252348 0.107201   0.10519724\n",
      " 0.10487163 0.11113338 0.096531   0.09843456 0.10487163 0.10299311\n",
      " 0.08966813 0.07586725 0.0627176  0.06492173 0.07160927 0.05815905\n",
      " 0.06191609 0.07271133 0.07140889 0.0787226  0.08721353 0.08721353\n",
      " 0.07664371 0.08112711 0.07484033 0.0803757  0.08696306 0.09036944\n",
      " 0.09896055 0.10068879 0.09887923 0.10133994 0.10385045 0.10634179\n",
      " 0.10878804 0.11118355 0.11353046 0.11583279 0.11809419 0.12031749\n",
      " 0.1225047  0.12465748 0.12677731 0.12886564 0.13092414 0.13295427\n",
      " 0.13495776 0.13693608 0.13889068 0.14082287]\n"
     ]
    },
    {
     "name": "stdout",
     "output_type": "stream",
     "text": [
      "20 day output [[0.14273377]]\n",
      "21 day input [0.13212273 0.13470257 0.14311835 0.14662492 0.15524108 0.1587226\n",
      " 0.16839073 0.17001879 0.17222292 0.1806387  0.17765811 0.16974327\n",
      " 0.16899186 0.17933626 0.17087038 0.16278021 0.16355667 0.15842204\n",
      " 0.14755166 0.15233563 0.1591985  0.1463995  0.14584847 0.15168441\n",
      " 0.15125861 0.14922981 0.13763306 0.14036318 0.12513463 0.12455855\n",
      " 0.14226675 0.12726362 0.12804008 0.13184721 0.14822793 0.12505949\n",
      " 0.12633688 0.11326237 0.11939887 0.09933626 0.08946775 0.10086412\n",
      " 0.09693175 0.10619912 0.08510958 0.07641828 0.07701941 0.09084534\n",
      " 0.08395742 0.08435817 0.09252348 0.107201   0.10519724 0.10487163\n",
      " 0.11113338 0.096531   0.09843456 0.10487163 0.10299311 0.08966813\n",
      " 0.07586725 0.0627176  0.06492173 0.07160927 0.05815905 0.06191609\n",
      " 0.07271133 0.07140889 0.0787226  0.08721353 0.08721353 0.07664371\n",
      " 0.08112711 0.07484033 0.0803757  0.08696306 0.09036944 0.09896055\n",
      " 0.10068879 0.09887923 0.10133994 0.10385045 0.10634179 0.10878804\n",
      " 0.11118355 0.11353046 0.11583279 0.11809419 0.12031749 0.1225047\n",
      " 0.12465748 0.12677731 0.12886564 0.13092414 0.13295427 0.13495776\n",
      " 0.13693608 0.13889068 0.14082287 0.14273377]\n",
      "21 day output [[0.1446243]]\n",
      "22 day input [0.13470257 0.14311835 0.14662492 0.15524108 0.1587226  0.16839073\n",
      " 0.17001879 0.17222292 0.1806387  0.17765811 0.16974327 0.16899186\n",
      " 0.17933626 0.17087038 0.16278021 0.16355667 0.15842204 0.14755166\n",
      " 0.15233563 0.1591985  0.1463995  0.14584847 0.15168441 0.15125861\n",
      " 0.14922981 0.13763306 0.14036318 0.12513463 0.12455855 0.14226675\n",
      " 0.12726362 0.12804008 0.13184721 0.14822793 0.12505949 0.12633688\n",
      " 0.11326237 0.11939887 0.09933626 0.08946775 0.10086412 0.09693175\n",
      " 0.10619912 0.08510958 0.07641828 0.07701941 0.09084534 0.08395742\n",
      " 0.08435817 0.09252348 0.107201   0.10519724 0.10487163 0.11113338\n",
      " 0.096531   0.09843456 0.10487163 0.10299311 0.08966813 0.07586725\n",
      " 0.0627176  0.06492173 0.07160927 0.05815905 0.06191609 0.07271133\n",
      " 0.07140889 0.0787226  0.08721353 0.08721353 0.07664371 0.08112711\n",
      " 0.07484033 0.0803757  0.08696306 0.09036944 0.09896055 0.10068879\n",
      " 0.09887923 0.10133994 0.10385045 0.10634179 0.10878804 0.11118355\n",
      " 0.11353046 0.11583279 0.11809419 0.12031749 0.1225047  0.12465748\n",
      " 0.12677731 0.12886564 0.13092414 0.13295427 0.13495776 0.13693608\n",
      " 0.13889068 0.14082287 0.14273377 0.14462429]\n",
      "22 day output [[0.1464952]]\n",
      "23 day input [0.14311835 0.14662492 0.15524108 0.1587226  0.16839073 0.17001879\n",
      " 0.17222292 0.1806387  0.17765811 0.16974327 0.16899186 0.17933626\n",
      " 0.17087038 0.16278021 0.16355667 0.15842204 0.14755166 0.15233563\n",
      " 0.1591985  0.1463995  0.14584847 0.15168441 0.15125861 0.14922981\n",
      " 0.13763306 0.14036318 0.12513463 0.12455855 0.14226675 0.12726362\n",
      " 0.12804008 0.13184721 0.14822793 0.12505949 0.12633688 0.11326237\n",
      " 0.11939887 0.09933626 0.08946775 0.10086412 0.09693175 0.10619912\n",
      " 0.08510958 0.07641828 0.07701941 0.09084534 0.08395742 0.08435817\n",
      " 0.09252348 0.107201   0.10519724 0.10487163 0.11113338 0.096531\n",
      " 0.09843456 0.10487163 0.10299311 0.08966813 0.07586725 0.0627176\n",
      " 0.06492173 0.07160927 0.05815905 0.06191609 0.07271133 0.07140889\n",
      " 0.0787226  0.08721353 0.08721353 0.07664371 0.08112711 0.07484033\n",
      " 0.0803757  0.08696306 0.09036944 0.09896055 0.10068879 0.09887923\n",
      " 0.10133994 0.10385045 0.10634179 0.10878804 0.11118355 0.11353046\n",
      " 0.11583279 0.11809419 0.12031749 0.1225047  0.12465748 0.12677731\n",
      " 0.12886564 0.13092414 0.13295427 0.13495776 0.13693608 0.13889068\n",
      " 0.14082287 0.14273377 0.14462429 0.14649519]\n",
      "23 day output [[0.14834706]]\n",
      "24 day input [0.14662492 0.15524108 0.1587226  0.16839073 0.17001879 0.17222292\n",
      " 0.1806387  0.17765811 0.16974327 0.16899186 0.17933626 0.17087038\n",
      " 0.16278021 0.16355667 0.15842204 0.14755166 0.15233563 0.1591985\n",
      " 0.1463995  0.14584847 0.15168441 0.15125861 0.14922981 0.13763306\n",
      " 0.14036318 0.12513463 0.12455855 0.14226675 0.12726362 0.12804008\n",
      " 0.13184721 0.14822793 0.12505949 0.12633688 0.11326237 0.11939887\n",
      " 0.09933626 0.08946775 0.10086412 0.09693175 0.10619912 0.08510958\n",
      " 0.07641828 0.07701941 0.09084534 0.08395742 0.08435817 0.09252348\n",
      " 0.107201   0.10519724 0.10487163 0.11113338 0.096531   0.09843456\n",
      " 0.10487163 0.10299311 0.08966813 0.07586725 0.0627176  0.06492173\n",
      " 0.07160927 0.05815905 0.06191609 0.07271133 0.07140889 0.0787226\n",
      " 0.08721353 0.08721353 0.07664371 0.08112711 0.07484033 0.0803757\n",
      " 0.08696306 0.09036944 0.09896055 0.10068879 0.09887923 0.10133994\n",
      " 0.10385045 0.10634179 0.10878804 0.11118355 0.11353046 0.11583279\n",
      " 0.11809419 0.12031749 0.1225047  0.12465748 0.12677731 0.12886564\n",
      " 0.13092414 0.13295427 0.13495776 0.13693608 0.13889068 0.14082287\n",
      " 0.14273377 0.14462429 0.14649519 0.14834706]\n",
      "24 day output [[0.15018037]]\n",
      "25 day input [0.15524108 0.1587226  0.16839073 0.17001879 0.17222292 0.1806387\n",
      " 0.17765811 0.16974327 0.16899186 0.17933626 0.17087038 0.16278021\n",
      " 0.16355667 0.15842204 0.14755166 0.15233563 0.1591985  0.1463995\n",
      " 0.14584847 0.15168441 0.15125861 0.14922981 0.13763306 0.14036318\n",
      " 0.12513463 0.12455855 0.14226675 0.12726362 0.12804008 0.13184721\n",
      " 0.14822793 0.12505949 0.12633688 0.11326237 0.11939887 0.09933626\n",
      " 0.08946775 0.10086412 0.09693175 0.10619912 0.08510958 0.07641828\n",
      " 0.07701941 0.09084534 0.08395742 0.08435817 0.09252348 0.107201\n",
      " 0.10519724 0.10487163 0.11113338 0.096531   0.09843456 0.10487163\n",
      " 0.10299311 0.08966813 0.07586725 0.0627176  0.06492173 0.07160927\n",
      " 0.05815905 0.06191609 0.07271133 0.07140889 0.0787226  0.08721353\n",
      " 0.08721353 0.07664371 0.08112711 0.07484033 0.0803757  0.08696306\n",
      " 0.09036944 0.09896055 0.10068879 0.09887923 0.10133994 0.10385045\n",
      " 0.10634179 0.10878804 0.11118355 0.11353046 0.11583279 0.11809419\n",
      " 0.12031749 0.1225047  0.12465748 0.12677731 0.12886564 0.13092414\n",
      " 0.13295427 0.13495776 0.13693608 0.13889068 0.14082287 0.14273377\n",
      " 0.14462429 0.14649519 0.14834706 0.15018037]\n",
      "25 day output [[0.1519954]]\n",
      "26 day input [0.1587226  0.16839073 0.17001879 0.17222292 0.1806387  0.17765811\n",
      " 0.16974327 0.16899186 0.17933626 0.17087038 0.16278021 0.16355667\n",
      " 0.15842204 0.14755166 0.15233563 0.1591985  0.1463995  0.14584847\n",
      " 0.15168441 0.15125861 0.14922981 0.13763306 0.14036318 0.12513463\n",
      " 0.12455855 0.14226675 0.12726362 0.12804008 0.13184721 0.14822793\n",
      " 0.12505949 0.12633688 0.11326237 0.11939887 0.09933626 0.08946775\n",
      " 0.10086412 0.09693175 0.10619912 0.08510958 0.07641828 0.07701941\n",
      " 0.09084534 0.08395742 0.08435817 0.09252348 0.107201   0.10519724\n",
      " 0.10487163 0.11113338 0.096531   0.09843456 0.10487163 0.10299311\n",
      " 0.08966813 0.07586725 0.0627176  0.06492173 0.07160927 0.05815905\n",
      " 0.06191609 0.07271133 0.07140889 0.0787226  0.08721353 0.08721353\n",
      " 0.07664371 0.08112711 0.07484033 0.0803757  0.08696306 0.09036944\n",
      " 0.09896055 0.10068879 0.09887923 0.10133994 0.10385045 0.10634179\n",
      " 0.10878804 0.11118355 0.11353046 0.11583279 0.11809419 0.12031749\n",
      " 0.1225047  0.12465748 0.12677731 0.12886564 0.13092414 0.13295427\n",
      " 0.13495776 0.13693608 0.13889068 0.14082287 0.14273377 0.14462429\n",
      " 0.14649519 0.14834706 0.15018037 0.15199541]\n",
      "26 day output [[0.1537925]]\n",
      "27 day input [0.16839073 0.17001879 0.17222292 0.1806387  0.17765811 0.16974327\n",
      " 0.16899186 0.17933626 0.17087038 0.16278021 0.16355667 0.15842204\n",
      " 0.14755166 0.15233563 0.1591985  0.1463995  0.14584847 0.15168441\n",
      " 0.15125861 0.14922981 0.13763306 0.14036318 0.12513463 0.12455855\n",
      " 0.14226675 0.12726362 0.12804008 0.13184721 0.14822793 0.12505949\n",
      " 0.12633688 0.11326237 0.11939887 0.09933626 0.08946775 0.10086412\n",
      " 0.09693175 0.10619912 0.08510958 0.07641828 0.07701941 0.09084534\n",
      " 0.08395742 0.08435817 0.09252348 0.107201   0.10519724 0.10487163\n",
      " 0.11113338 0.096531   0.09843456 0.10487163 0.10299311 0.08966813\n",
      " 0.07586725 0.0627176  0.06492173 0.07160927 0.05815905 0.06191609\n",
      " 0.07271133 0.07140889 0.0787226  0.08721353 0.08721353 0.07664371\n",
      " 0.08112711 0.07484033 0.0803757  0.08696306 0.09036944 0.09896055\n",
      " 0.10068879 0.09887923 0.10133994 0.10385045 0.10634179 0.10878804\n",
      " 0.11118355 0.11353046 0.11583279 0.11809419 0.12031749 0.1225047\n",
      " 0.12465748 0.12677731 0.12886564 0.13092414 0.13295427 0.13495776\n",
      " 0.13693608 0.13889068 0.14082287 0.14273377 0.14462429 0.14649519\n",
      " 0.14834706 0.15018037 0.15199541 0.1537925 ]\n",
      "27 day output [[0.15557174]]\n",
      "28 day input [0.17001879 0.17222292 0.1806387  0.17765811 0.16974327 0.16899186\n",
      " 0.17933626 0.17087038 0.16278021 0.16355667 0.15842204 0.14755166\n",
      " 0.15233563 0.1591985  0.1463995  0.14584847 0.15168441 0.15125861\n",
      " 0.14922981 0.13763306 0.14036318 0.12513463 0.12455855 0.14226675\n",
      " 0.12726362 0.12804008 0.13184721 0.14822793 0.12505949 0.12633688\n",
      " 0.11326237 0.11939887 0.09933626 0.08946775 0.10086412 0.09693175\n",
      " 0.10619912 0.08510958 0.07641828 0.07701941 0.09084534 0.08395742\n",
      " 0.08435817 0.09252348 0.107201   0.10519724 0.10487163 0.11113338\n",
      " 0.096531   0.09843456 0.10487163 0.10299311 0.08966813 0.07586725\n",
      " 0.0627176  0.06492173 0.07160927 0.05815905 0.06191609 0.07271133\n",
      " 0.07140889 0.0787226  0.08721353 0.08721353 0.07664371 0.08112711\n",
      " 0.07484033 0.0803757  0.08696306 0.09036944 0.09896055 0.10068879\n",
      " 0.09887923 0.10133994 0.10385045 0.10634179 0.10878804 0.11118355\n",
      " 0.11353046 0.11583279 0.11809419 0.12031749 0.1225047  0.12465748\n",
      " 0.12677731 0.12886564 0.13092414 0.13295427 0.13495776 0.13693608\n",
      " 0.13889068 0.14082287 0.14273377 0.14462429 0.14649519 0.14834706\n",
      " 0.15018037 0.15199541 0.1537925  0.15557174]\n",
      "28 day output [[0.15733331]]\n",
      "29 day input [0.17222292 0.1806387  0.17765811 0.16974327 0.16899186 0.17933626\n",
      " 0.17087038 0.16278021 0.16355667 0.15842204 0.14755166 0.15233563\n",
      " 0.1591985  0.1463995  0.14584847 0.15168441 0.15125861 0.14922981\n",
      " 0.13763306 0.14036318 0.12513463 0.12455855 0.14226675 0.12726362\n",
      " 0.12804008 0.13184721 0.14822793 0.12505949 0.12633688 0.11326237\n",
      " 0.11939887 0.09933626 0.08946775 0.10086412 0.09693175 0.10619912\n",
      " 0.08510958 0.07641828 0.07701941 0.09084534 0.08395742 0.08435817\n",
      " 0.09252348 0.107201   0.10519724 0.10487163 0.11113338 0.096531\n",
      " 0.09843456 0.10487163 0.10299311 0.08966813 0.07586725 0.0627176\n",
      " 0.06492173 0.07160927 0.05815905 0.06191609 0.07271133 0.07140889\n",
      " 0.0787226  0.08721353 0.08721353 0.07664371 0.08112711 0.07484033\n",
      " 0.0803757  0.08696306 0.09036944 0.09896055 0.10068879 0.09887923\n",
      " 0.10133994 0.10385045 0.10634179 0.10878804 0.11118355 0.11353046\n",
      " 0.11583279 0.11809419 0.12031749 0.1225047  0.12465748 0.12677731\n",
      " 0.12886564 0.13092414 0.13295427 0.13495776 0.13693608 0.13889068\n",
      " 0.14082287 0.14273377 0.14462429 0.14649519 0.14834706 0.15018037\n",
      " 0.15199541 0.1537925  0.15557174 0.15733331]\n",
      "29 day output [[0.15907738]]\n",
      "[[0.09887923300266266], [0.10133993625640869], [0.10385045409202576], [0.10634179413318634], [0.10878804326057434], [0.11118355393409729], [0.11353045701980591], [0.11583279073238373], [0.11809419095516205], [0.1203174889087677], [0.12250469624996185], [0.12465748190879822], [0.1267773061990738], [0.12886564433574677], [0.13092413544654846], [0.13295426964759827], [0.13495776057243347], [0.13693608343601227], [0.13889068365097046], [0.1408228725194931], [0.14273376762866974], [0.14462429285049438], [0.14649519324302673], [0.14834706485271454], [0.1501803696155548], [0.15199540555477142], [0.15379250049591064], [0.15557174384593964], [0.15733331441879272], [0.15907737612724304]]\n"
     ]
    }
   ],
   "source": [
    "from numpy import array\n",
    "\n",
    "lst_output=[]\n",
    "n_steps=100\n",
    "i=0\n",
    "while(i<30):\n",
    "    if(len(temp_input)>100):\n",
    "        x_input=np.array(temp_input[1:])\n",
    "        print('{} day input {}'.format(i,x_input))\n",
    "        x_input=x_input.reshape(1,-1)\n",
    "        x_input=x_input.reshape((1,n_steps,1))\n",
    "        yhat=model.predict(x_input,verbose=0)\n",
    "        print('{} day output {}'.format(i,yhat))\n",
    "        temp_input.extend(yhat[0].tolist())\n",
    "        temp_input=temp_input[1:]\n",
    "        lst_output.extend(yhat.tolist())\n",
    "        i=i+1\n",
    "    else:\n",
    "        x_input=x_input.reshape((1,n_steps,1))\n",
    "        yhat=model.predict(x_input,verbose=0)\n",
    "        print(yhat[0])\n",
    "        temp_input.extend(yhat[0].tolist())\n",
    "        print(len(temp_input))\n",
    "        lst_output.extend(yhat.tolist())\n",
    "        i=i+1\n",
    "        \n",
    "print(lst_output)"
   ]
  },
  {
   "cell_type": "code",
   "execution_count": 68,
   "id": "24e44c28",
   "metadata": {},
   "outputs": [],
   "source": [
    "day_new=np.arange(1,101)\n",
    "day_pred=np.arange(101,131)"
   ]
  },
  {
   "cell_type": "code",
   "execution_count": 84,
   "id": "73f958fd",
   "metadata": {},
   "outputs": [
    {
     "data": {
      "text/plain": [
       "[<matplotlib.lines.Line2D at 0x248fe1afeb0>]"
      ]
     },
     "execution_count": 84,
     "metadata": {},
     "output_type": "execute_result"
    },
    {
     "data": {
      "image/png": "[encoded data removed]",
      "text/plain": [
       "<Figure size 432x288 with 1 Axes>"
      ]
     },
     "metadata": {
      "needs_background": "light"
     },
     "output_type": "display_data"
    }
   ],
   "source": [
    "df3=df1.tolist()\n",
    "df3.extend(lst_output)\n",
    "plt.plot(df3[:])"
   ]
  },
  {
   "cell_type": "code",
   "execution_count": 72,
   "id": "c761b36b",
   "metadata": {},
   "outputs": [
    {
     "data": {
      "text/plain": [
       "[<matplotlib.lines.Line2D at 0x248fddc89d0>]"
      ]
     },
     "execution_count": 72,
     "metadata": {},
     "output_type": "execute_result"
    },
    {
     "data": {
      "image/png": "[encoded data removed]",
      "text/plain": [
       "<Figure size 432x288 with 1 Axes>"
      ]
     },
     "metadata": {
      "needs_background": "light"
     },
     "output_type": "display_data"
    }
   ],
   "source": [
    "plt.plot(day_new,scaler.inverse_transform(df1[1158:]))\n",
    "plt.plot(day_pred,scaler.inverse_transform(lst_output))"
   ]
  },
  {
   "cell_type": "code",
   "execution_count": null,
   "id": "4f9f44ed",
   "metadata": {},
   "outputs": [],
   "source": []
  },
  {
   "cell_type": "code",
   "execution_count": null,
   "id": "b20cd986",
   "metadata": {},
   "outputs": [],
   "source": []
  },
  {
   "cell_type": "code",
   "execution_count": null,
   "id": "fea49103",
   "metadata": {},
   "outputs": [],
   "source": []
  }
 ],
 "metadata": {
  "kernelspec": {
   "display_name": "Python 3 (ipykernel)",
   "language": "python",
   "name": "python3"
  },
  "language_info": {
   "codemirror_mode": {
    "name": "ipython",
    "version": 3
   },
   "file_extension": ".py",
   "mimetype": "text/x-python",
   "name": "python",
   "nbconvert_exporter": "python",
   "pygments_lexer": "ipython3",
   "version": "3.10.2"
  }
 },
 "nbformat": 4,
 "nbformat_minor": 5
}
